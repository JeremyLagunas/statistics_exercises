{
 "cells": [
  {
   "cell_type": "code",
   "execution_count": 1,
   "id": "8be4af22",
   "metadata": {},
   "outputs": [],
   "source": [
    "import matplotlib.pyplot as plt\n",
    "import numpy as np\n",
    "import pandas as pd\n",
    "from scipy import stats"
   ]
  },
  {
   "cell_type": "code",
   "execution_count": 7,
   "id": "06f068fb",
   "metadata": {},
   "outputs": [
    {
     "data": {
      "text/plain": [
       "<scipy.stats._distn_infrastructure.rv_frozen at 0x15343a0d0>"
      ]
     },
     "execution_count": 7,
     "metadata": {},
     "output_type": "execute_result"
    }
   ],
   "source": [
    "u = 2\n",
    "stats.poisson(u)"
   ]
  },
  {
   "cell_type": "code",
   "execution_count": 5,
   "id": "f75f867d",
   "metadata": {},
   "outputs": [
    {
     "data": {
      "image/png": "[encoded data removed]",
      "text/plain": [
       "<Figure size 432x288 with 1 Axes>"
      ]
     },
     "metadata": {
      "needs_background": "light"
     },
     "output_type": "display_data"
    }
   ],
   "source": [
    "x = np.arange(0,10)\n",
    "y = stats.poisson(u).pmf(x)\n",
    "\n",
    "plt.bar(x,y)\n",
    "plt.xlabel('No of customers in line')\n",
    "plt.ylabel('P(X)') \n",
    "plt.title('Poisson distribution $λ = 2$');"
   ]
  },
  {
   "cell_type": "code",
   "execution_count": 8,
   "id": "43e19464",
   "metadata": {},
   "outputs": [
    {
     "data": {
      "text/plain": [
       "0.1353352832366127"
      ]
     },
     "execution_count": 8,
     "metadata": {},
     "output_type": "execute_result"
    }
   ],
   "source": [
    "# 0 cars\n",
    "stats.poisson(u).pmf(0)"
   ]
  },
  {
   "cell_type": "code",
   "execution_count": 11,
   "id": "edd03f41",
   "metadata": {},
   "outputs": [
    {
     "data": {
      "text/plain": [
       "0.32332358381693654"
      ]
     },
     "execution_count": 11,
     "metadata": {},
     "output_type": "execute_result"
    }
   ],
   "source": [
    "# 3 or more cars\n",
    "stats.poisson(u).sf(2)"
   ]
  },
  {
   "cell_type": "code",
   "execution_count": 13,
   "id": "b741b7f4",
   "metadata": {},
   "outputs": [
    {
     "data": {
      "text/plain": [
       "0.40600584970983794"
      ]
     },
     "execution_count": 13,
     "metadata": {},
     "output_type": "execute_result"
    }
   ],
   "source": [
    "# at least 1 car\n",
    "stats.poisson(u).cdf(1)"
   ]
  },
  {
   "cell_type": "markdown",
   "id": "7a5dd5ed",
   "metadata": {},
   "source": [
    "## 2. Grades of State University graduates are normally distributed with a mean of 3.0 and a standard deviation of .3. Calculate the following:"
   ]
  },
  {
   "cell_type": "code",
   "execution_count": 15,
   "id": "bfeb37d6",
   "metadata": {},
   "outputs": [],
   "source": [
    "gpa = stats.norm(3.0, .3)"
   ]
  },
  {
   "cell_type": "markdown",
   "id": "09953030",
   "metadata": {},
   "source": [
    "What grade point average is required to be in the top 5% of the graduating class?"
   ]
  },
  {
   "cell_type": "code",
   "execution_count": 16,
   "id": "ff2dc38a",
   "metadata": {},
   "outputs": [
    {
     "data": {
      "text/plain": [
       "3.4934560880854417"
      ]
     },
     "execution_count": 16,
     "metadata": {},
     "output_type": "execute_result"
    }
   ],
   "source": [
    "gpa.isf(.05)"
   ]
  },
  {
   "cell_type": "markdown",
   "id": "4e6ba916",
   "metadata": {},
   "source": [
    "What GPA constitutes the bottom 15% of the class?"
   ]
  },
  {
   "cell_type": "code",
   "execution_count": 18,
   "id": "d2e4f05d",
   "metadata": {},
   "outputs": [
    {
     "data": {
      "text/plain": [
       "2.689069983151863"
      ]
     },
     "execution_count": 18,
     "metadata": {},
     "output_type": "execute_result"
    }
   ],
   "source": [
    "gpa.ppf(.15)"
   ]
  },
  {
   "cell_type": "markdown",
   "id": "d4596b33",
   "metadata": {},
   "source": [
    "An eccentric alumnus left scholarship money for students in the third decile from the bottom of their class. Determine the range of the third decile. Would a student with a 2.8 grade point average qualify for this scholarship?"
   ]
  },
  {
   "cell_type": "code",
   "execution_count": 19,
   "id": "873b1ce8",
   "metadata": {},
   "outputs": [
    {
     "data": {
      "text/plain": [
       "2.842679846187588"
      ]
     },
     "execution_count": 19,
     "metadata": {},
     "output_type": "execute_result"
    }
   ],
   "source": [
    "#top of third decile range\n",
    "gpa.ppf(.30)"
   ]
  },
  {
   "cell_type": "code",
   "execution_count": 22,
   "id": "9e374229",
   "metadata": {},
   "outputs": [
    {
     "data": {
      "text/plain": [
       "2.7475136299281258"
      ]
     },
     "execution_count": 22,
     "metadata": {},
     "output_type": "execute_result"
    }
   ],
   "source": [
    "#bottom of third decile range\n",
    "gpa.isf(.80)"
   ]
  },
  {
   "cell_type": "code",
   "execution_count": 23,
   "id": "835a97c2",
   "metadata": {},
   "outputs": [],
   "source": [
    "# yes, a 2.8 GPA would qualify."
   ]
  },
  {
   "cell_type": "markdown",
   "id": "8a6ae014",
   "metadata": {},
   "source": [
    "If I have a GPA of 3.5, what percentile am I in?"
   ]
  },
  {
   "cell_type": "code",
   "execution_count": 24,
   "id": "cd88829d",
   "metadata": {},
   "outputs": [
    {
     "data": {
      "text/plain": [
       "0.9522096477271853"
      ]
     },
     "execution_count": 24,
     "metadata": {},
     "output_type": "execute_result"
    }
   ],
   "source": [
    "gpa.cdf(3.5)"
   ]
  },
  {
   "cell_type": "markdown",
   "id": "8facaca5",
   "metadata": {},
   "source": [
    "## 3. A marketing website has an average click-through rate of 2%. One day they observe 4326 visitors and 97 click-throughs. How likely is it that this many people or more click through?"
   ]
  },
  {
   "cell_type": "code",
   "execution_count": 40,
   "id": "2440549f",
   "metadata": {},
   "outputs": [],
   "source": [
    "click = stats.binom(4326, .02)"
   ]
  },
  {
   "cell_type": "code",
   "execution_count": 41,
   "id": "91e2bb80",
   "metadata": {},
   "outputs": [
    {
     "data": {
      "text/plain": [
       "0.021942930454375544"
      ]
     },
     "execution_count": 41,
     "metadata": {},
     "output_type": "execute_result"
    }
   ],
   "source": [
    "click.pmf(97)"
   ]
  },
  {
   "cell_type": "code",
   "execution_count": 47,
   "id": "f90895fb",
   "metadata": {},
   "outputs": [
    {
     "data": {
      "text/plain": [
       "<BarContainer object of 55 artists>"
      ]
     },
     "execution_count": 47,
     "metadata": {},
     "output_type": "execute_result"
    },
    {
     "data": {
      "image/png": "[encoded data removed]",
      "text/plain": [
       "<Figure size 432x288 with 1 Axes>"
      ]
     },
     "metadata": {
      "needs_background": "light"
     },
     "output_type": "display_data"
    }
   ],
   "source": [
    "x = np.arange(55, 110)\n",
    "y = click.pmf(x)\n",
    "\n",
    "plt.bar(x, y)"
   ]
  },
  {
   "cell_type": "markdown",
   "id": "787c796a",
   "metadata": {},
   "source": [
    "## 4. You are working on some statistics homework consisting of 100 questions where all of the answers are a probability rounded to the hundreths place. Looking to save time, you put down random probabilities as the answer to each question."
   ]
  },
  {
   "cell_type": "markdown",
   "id": "98c51248",
   "metadata": {},
   "source": [
    "What is the probability that at least one of your first 60 answers is correct?"
   ]
  },
  {
   "cell_type": "code",
   "execution_count": 49,
   "id": "cbf951ce",
   "metadata": {},
   "outputs": [],
   "source": [
    "test = stats.binom(100, .01)"
   ]
  },
  {
   "cell_type": "code",
   "execution_count": 52,
   "id": "b56eecaa",
   "metadata": {},
   "outputs": [
    {
     "data": {
      "text/plain": [
       "9.195842430228363e-93"
      ]
     },
     "execution_count": 52,
     "metadata": {},
     "output_type": "execute_result"
    }
   ],
   "source": [
    "test.pmf(60)"
   ]
  },
  {
   "cell_type": "markdown",
   "id": "98d89882",
   "metadata": {},
   "source": [
    "## 5. The codeup staff tends to get upset when the student break area is not cleaned up. Suppose that there's a 3% chance that any one student cleans the break area when they visit it, and, on any given day, about 90% of the 3 active cohorts of 22 students visit the break area. How likely is it that the break area gets cleaned up each day? How likely is it that it goes two days without getting cleaned up? All week?"
   ]
  },
  {
   "cell_type": "code",
   "execution_count": null,
   "id": "3d6505c6",
   "metadata": {},
   "outputs": [],
   "source": []
  }
 ],
 "metadata": {
  "kernelspec": {
   "display_name": "Python 3 (ipykernel)",
   "language": "python",
   "name": "python3"
  },
  "language_info": {
   "codemirror_mode": {
    "name": "ipython",
    "version": 3
   },
   "file_extension": ".py",
   "mimetype": "text/x-python",
   "name": "python",
   "nbconvert_exporter": "python",
   "pygments_lexer": "ipython3",
   "version": "3.9.12"
  }
 },
 "nbformat": 4,
 "nbformat_minor": 5
}
