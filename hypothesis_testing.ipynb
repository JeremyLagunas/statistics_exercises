{
 "cells": [
  {
   "cell_type": "code",
   "execution_count": null,
   "id": "9b27ccdb",
   "metadata": {},
   "outputs": [],
   "source": [
    "For each of the following questions, formulate a null and alternative hypothesis (be as specific as you can be), then give an example of what a true positive, true negative, type I and type II errors would look like. Note that some of the questions are intentionally phrased in a vague way. It is your job to reword these as more precise questions that could be tested.\n",
    "\n",
    "Has the network latency gone up since we switched internet service providers?\n",
    " -- Hypotheses0 Network latency has stayed the same or has gone down since switching\n",
    " -- Alt Hypothesis network latency has gone up since switching\n",
    "\n",
    " -- True Positive -- low p-value , reject the Ho, -- latency has gone up\n",
    " -- False Positive -- low p-value, reject the Ho, -- sample size with generally high latency due to various reasons such as multiple people or time of day\n",
    " -- True Negative -- high p-value, fail to reject Ho -- latency has gone up\n",
    " -- False Negative -- high p-value, fail to reject Ho -- sample size latency is not higher due to service type\n",
    "\n",
    "\n",
    "\n",
    "Is the website redesign any good?\n",
    "-- Null Hypothesis -- the redesigned website draws more traffic than previous version\n",
    "-- alt Hypothesis -- the redesigned website draws less or same amout of traffic than previous version\n",
    "\n",
    "-- True Positive -- low p-value , reject the Ho, -- the new website does not draw more traffic\n",
    " -- False Positive -- low p-value, reject the Ho, -- sample size was during a holiday and did not account for the fall in overall traffic\n",
    " -- True Negative -- high p-value, fail to reject Ho -- the webiste draws more traffic\n",
    " -- False Negative -- high p-value, fail to reject Ho -- sample size was included set during a marketing campaign for that day\n",
    "\n",
    "\n",
    "\n",
    "Is our television ad driving more sales?\n",
    "-- Null H - The television ad did not affect sales or stayed the same \n",
    "-- Alt H - The television ad drove more sales\n",
    "\n",
    " --True Positive -- low p-value , reject the Ho, -- Television sales increased\n",
    " -- False Positive -- low p-value, reject the Ho, -- the occurred during black friday and overall sales were higher\n",
    " -- True Negative -- high p-value, fail to reject Ho -- Ad had no effect no sales\n",
    " -- False Negative -- high p-value, fail to reject Ho -- Ad was not marketed to the right audience or the right time"
   ]
  }
 ],
 "metadata": {
  "kernelspec": {
   "display_name": "Python 3 (ipykernel)",
   "language": "python",
   "name": "python3"
  },
  "language_info": {
   "codemirror_mode": {
    "name": "ipython",
    "version": 3
   },
   "file_extension": ".py",
   "mimetype": "text/x-python",
   "name": "python",
   "nbconvert_exporter": "python",
   "pygments_lexer": "ipython3",
   "version": "3.9.12"
  }
 },
 "nbformat": 4,
 "nbformat_minor": 5
}
