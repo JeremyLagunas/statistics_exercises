{
 "cells": [
  {
   "cell_type": "markdown",
   "id": "4dd926c8",
   "metadata": {},
   "source": [
    "## 1. How likely is it that you roll doubles when rolling two dice?"
   ]
  },
  {
   "cell_type": "code",
   "execution_count": 1,
   "id": "aafbcac6",
   "metadata": {},
   "outputs": [],
   "source": [
    "import numpy as np\n",
    "import pandas as pd"
   ]
  },
  {
   "cell_type": "code",
   "execution_count": 2,
   "id": "3b59a25b",
   "metadata": {
    "scrolled": true
   },
   "outputs": [
    {
     "data": {
      "text/plain": [
       "array([[2],\n",
       "       [2],\n",
       "       [5],\n",
       "       ...,\n",
       "       [4],\n",
       "       [1],\n",
       "       [1]])"
      ]
     },
     "execution_count": 2,
     "metadata": {},
     "output_type": "execute_result"
    }
   ],
   "source": [
    "n_trials = nrows = 10_000\n",
    "n_dice = ncols = 1\n",
    "\n",
    "rolls1 = np.random.choice([1, 2, 3, 4, 5, 6], n_trials * n_dice).reshape(nrows, ncols)\n",
    "rolls1\n"
   ]
  },
  {
   "cell_type": "code",
   "execution_count": 3,
   "id": "e2dda74e",
   "metadata": {},
   "outputs": [
    {
     "data": {
      "text/plain": [
       "array([[5],\n",
       "       [3],\n",
       "       [4],\n",
       "       ...,\n",
       "       [3],\n",
       "       [4],\n",
       "       [4]])"
      ]
     },
     "execution_count": 3,
     "metadata": {},
     "output_type": "execute_result"
    }
   ],
   "source": [
    "n_trials = nrows = 10_000\n",
    "n_dice = ncols = 1\n",
    "\n",
    "rolls2 = np.random.choice([1, 2, 3, 4, 5, 6], n_trials * n_dice).reshape(nrows, ncols)\n",
    "rolls2"
   ]
  },
  {
   "cell_type": "code",
   "execution_count": 4,
   "id": "d6e23f40",
   "metadata": {},
   "outputs": [
    {
     "data": {
      "text/plain": [
       "0.1636"
      ]
     },
     "execution_count": 4,
     "metadata": {},
     "output_type": "execute_result"
    }
   ],
   "source": [
    "(rolls1 == rolls2).mean()"
   ]
  },
  {
   "cell_type": "code",
   "execution_count": 5,
   "id": "7d911c12",
   "metadata": {},
   "outputs": [
    {
     "data": {
      "text/plain": [
       "array([[2, 2],\n",
       "       [3, 2],\n",
       "       [1, 1],\n",
       "       ...,\n",
       "       [1, 5],\n",
       "       [6, 4],\n",
       "       [4, 2]])"
      ]
     },
     "execution_count": 5,
     "metadata": {},
     "output_type": "execute_result"
    }
   ],
   "source": [
    "n_trials = nrows = 10_000\n",
    "n_dice = ncols = 2\n",
    "\n",
    "rolls3 = np.random.choice([1, 2, 3, 4, 5, 6], n_trials * n_dice).reshape(nrows, ncols)\n",
    "rolls3"
   ]
  },
  {
   "cell_type": "code",
   "execution_count": 6,
   "id": "b4f4093c",
   "metadata": {},
   "outputs": [
    {
     "data": {
      "text/plain": [
       "0.1729"
      ]
     },
     "execution_count": 6,
     "metadata": {},
     "output_type": "execute_result"
    }
   ],
   "source": [
    "(pd.DataFrame(rolls3)[0] == pd.DataFrame(rolls3)[1]).mean()"
   ]
  },
  {
   "cell_type": "markdown",
   "id": "f3104a4b",
   "metadata": {},
   "source": [
    "## 2. If you flip 8 coins, what is the probability of getting exactly 3 heads? What is the probability of getting more than 3 heads?"
   ]
  },
  {
   "cell_type": "code",
   "execution_count": 7,
   "id": "bf494a05",
   "metadata": {},
   "outputs": [
    {
     "data": {
      "text/plain": [
       "array([[1, 1, 0, ..., 0, 0, 1],\n",
       "       [0, 0, 0, ..., 0, 1, 0],\n",
       "       [1, 0, 1, ..., 0, 0, 0],\n",
       "       ...,\n",
       "       [0, 1, 0, ..., 0, 0, 1],\n",
       "       [1, 0, 1, ..., 0, 1, 0],\n",
       "       [1, 0, 1, ..., 1, 1, 0]])"
      ]
     },
     "execution_count": 7,
     "metadata": {},
     "output_type": "execute_result"
    }
   ],
   "source": [
    "# heads = 1\n",
    "# tails = 0\n",
    "flips = np.random.choice([0, 1], size = (10000, 8))\n",
    "flips"
   ]
  },
  {
   "cell_type": "code",
   "execution_count": 8,
   "id": "8188d249",
   "metadata": {},
   "outputs": [],
   "source": [
    "flips_sums = flips.sum(axis = 1)"
   ]
  },
  {
   "cell_type": "markdown",
   "id": "6ee366af",
   "metadata": {},
   "source": [
    "### Probability of exactly 3 heads."
   ]
  },
  {
   "cell_type": "code",
   "execution_count": 9,
   "id": "3c2c7324",
   "metadata": {},
   "outputs": [
    {
     "data": {
      "text/plain": [
       "0.2193"
      ]
     },
     "execution_count": 9,
     "metadata": {},
     "output_type": "execute_result"
    }
   ],
   "source": [
    "(flips_sums == 3).mean()"
   ]
  },
  {
   "cell_type": "markdown",
   "id": "7bd04d9b",
   "metadata": {},
   "source": [
    "### Probability of > 3 heads."
   ]
  },
  {
   "cell_type": "code",
   "execution_count": 10,
   "id": "8db3eed1",
   "metadata": {},
   "outputs": [
    {
     "data": {
      "text/plain": [
       "0.64"
      ]
     },
     "execution_count": 10,
     "metadata": {},
     "output_type": "execute_result"
    }
   ],
   "source": [
    "(flips_sums > 3).mean()"
   ]
  },
  {
   "cell_type": "markdown",
   "id": "8125b4c9",
   "metadata": {},
   "source": [
    "## 3. There are approximitely 3 web development cohorts for every 1 data science cohort at Codeup. Assuming that Codeup randomly selects an alumni to put on a billboard, what are the odds that the two billboards I drive past both have data science students on them?"
   ]
  },
  {
   "cell_type": "code",
   "execution_count": 90,
   "id": "2e156ffc",
   "metadata": {},
   "outputs": [
    {
     "data": {
      "text/plain": [
       "array([[1],\n",
       "       [1],\n",
       "       [0],\n",
       "       ...,\n",
       "       [1],\n",
       "       [1],\n",
       "       [1]])"
      ]
     },
     "execution_count": 90,
     "metadata": {},
     "output_type": "execute_result"
    }
   ],
   "source": [
    "# 1 = WB\n",
    "# 0 = DS\n",
    "board1 = np.random.choice([0, 1, 1, 1], size = (10000, 1))\n",
    "board1"
   ]
  },
  {
   "cell_type": "code",
   "execution_count": 12,
   "id": "ba393f93",
   "metadata": {},
   "outputs": [
    {
     "data": {
      "text/plain": [
       "array([[0],\n",
       "       [1],\n",
       "       [0],\n",
       "       ...,\n",
       "       [1],\n",
       "       [1],\n",
       "       [0]])"
      ]
     },
     "execution_count": 12,
     "metadata": {},
     "output_type": "execute_result"
    }
   ],
   "source": [
    "board2 = np.random.choice([0, 1, 1, 1], size = (10000, 1))\n",
    "board2"
   ]
  },
  {
   "cell_type": "code",
   "execution_count": 13,
   "id": "ba3c557d",
   "metadata": {},
   "outputs": [
    {
     "data": {
      "text/plain": [
       "array([[1],\n",
       "       [2],\n",
       "       [1],\n",
       "       ...,\n",
       "       [1],\n",
       "       [2],\n",
       "       [0]])"
      ]
     },
     "execution_count": 13,
     "metadata": {},
     "output_type": "execute_result"
    }
   ],
   "source": [
    "two_boards = board1 + board2\n",
    "two_boards"
   ]
  },
  {
   "cell_type": "code",
   "execution_count": 14,
   "id": "e7543080",
   "metadata": {},
   "outputs": [
    {
     "data": {
      "text/plain": [
       "0.0638"
      ]
     },
     "execution_count": 14,
     "metadata": {},
     "output_type": "execute_result"
    }
   ],
   "source": [
    "(two_boards == 0).mean()"
   ]
  },
  {
   "cell_type": "markdown",
   "id": "8b25560a",
   "metadata": {},
   "source": [
    "## 4. Codeup students buy, on average, 3 poptart packages with a standard deviation of 1.5 a day from the snack vending machine. If on monday the machine is restocked with 17 poptart packages, how likely is it that I will be able to buy some poptarts on Friday afternoon? (Remember, if you have mean and standard deviation, use the np.random.normal) You'll need to make a judgement call on how to handle some of your values"
   ]
  },
  {
   "cell_type": "code",
   "execution_count": 92,
   "id": "a1138b1d",
   "metadata": {},
   "outputs": [],
   "source": [
    "pop = np.random.normal(3, 1.5, size = (10000, 5))"
   ]
  },
  {
   "cell_type": "code",
   "execution_count": 95,
   "id": "dd81ad1b",
   "metadata": {},
   "outputs": [
    {
     "data": {
      "text/plain": [
       "0.7254"
      ]
     },
     "execution_count": 95,
     "metadata": {},
     "output_type": "execute_result"
    }
   ],
   "source": [
    "(pop.sum(axis = 1) < 17).mean()"
   ]
  },
  {
   "cell_type": "markdown",
   "id": "c484341b",
   "metadata": {},
   "source": [
    "## 5. Compare Heights\n",
    "### - Men have an average height of 178 cm and standard deviation of 8cm.\n",
    "### -Women have a mean of 170, sd = 6cm.\n",
    "### -Since you have means and standard deviations, you can use np.random.normal to generate observations.\n",
    "### - If a man and woman are chosen at random, what is the likelihood the woman is taller than the man?\n"
   ]
  },
  {
   "cell_type": "code",
   "execution_count": 15,
   "id": "dc7516cd",
   "metadata": {},
   "outputs": [
    {
     "data": {
      "text/plain": [
       "array([186.72818699, 175.39094645, 180.08759695, ..., 165.29835974,\n",
       "       183.8898256 , 184.03426755])"
      ]
     },
     "execution_count": 15,
     "metadata": {},
     "output_type": "execute_result"
    }
   ],
   "source": [
    "man = np.random.normal(178, 8, size = 10000)\n",
    "man"
   ]
  },
  {
   "cell_type": "code",
   "execution_count": 16,
   "id": "5db27e09",
   "metadata": {},
   "outputs": [
    {
     "data": {
      "text/plain": [
       "array([172.94903038, 170.24671621, 164.02082395, ..., 173.59315727,\n",
       "       168.56760543, 169.01845804])"
      ]
     },
     "execution_count": 16,
     "metadata": {},
     "output_type": "execute_result"
    }
   ],
   "source": [
    "woman = np.random.normal(170, 6, size = 10000)\n",
    "woman"
   ]
  },
  {
   "cell_type": "code",
   "execution_count": 17,
   "id": "a36a2591",
   "metadata": {},
   "outputs": [
    {
     "data": {
      "text/plain": [
       "0.2075"
      ]
     },
     "execution_count": 17,
     "metadata": {},
     "output_type": "execute_result"
    }
   ],
   "source": [
    "((woman - man) > 0).mean()"
   ]
  },
  {
   "cell_type": "markdown",
   "id": "3d15752d",
   "metadata": {},
   "source": [
    "## 6. When installing anaconda on a student's computer, there's a 1 in 250 chance that the download is corrupted and the installation fails. What are the odds that after having 50 students download anaconda, no one has an installation issue? 100 students?"
   ]
  },
  {
   "cell_type": "code",
   "execution_count": 104,
   "id": "66f27902",
   "metadata": {},
   "outputs": [
    {
     "data": {
      "text/plain": [
       "0.8237"
      ]
     },
     "execution_count": 104,
     "metadata": {},
     "output_type": "execute_result"
    }
   ],
   "source": [
    "# 1 = corrupt\n",
    "# 0 = good\n",
    "sam = (np.random.choice([1, 0], p = [0.004, .996], size = (10000, 50)))\n",
    "(sam.sum(axis = 1) == 0).mean()"
   ]
  },
  {
   "cell_type": "code",
   "execution_count": 106,
   "id": "91f47cd7",
   "metadata": {},
   "outputs": [
    {
     "data": {
      "text/plain": [
       "0.6648"
      ]
     },
     "execution_count": 106,
     "metadata": {},
     "output_type": "execute_result"
    }
   ],
   "source": [
    "sam2 =(np.random.choice([1, 0], p = [0.004, .996], size = (10000, 100)))\n",
    "(sam2.sum(axis = 1) == 0).mean()"
   ]
  },
  {
   "cell_type": "markdown",
   "id": "9770f3fe",
   "metadata": {},
   "source": [
    "## What is the probability that we observe an installation issue within the first 150 students that download anaconda?\n",
    "\n"
   ]
  },
  {
   "cell_type": "code",
   "execution_count": 108,
   "id": "4a0dc904",
   "metadata": {},
   "outputs": [],
   "source": [
    "install = (np.random.choice([1, 0], p = [0.004, .996], size = (10000, 150)))"
   ]
  },
  {
   "cell_type": "code",
   "execution_count": 113,
   "id": "9b63467c",
   "metadata": {},
   "outputs": [
    {
     "data": {
      "text/plain": [
       "0.4544"
      ]
     },
     "execution_count": 113,
     "metadata": {},
     "output_type": "execute_result"
    }
   ],
   "source": [
    "(install.sum(axis = 1) > 0).mean() "
   ]
  },
  {
   "cell_type": "markdown",
   "id": "1deaa132",
   "metadata": {},
   "source": [
    "## How likely is it that 450 students all download anaconda without an issue?\n",
    "\n"
   ]
  },
  {
   "cell_type": "code",
   "execution_count": 110,
   "id": "38ccea44",
   "metadata": {},
   "outputs": [],
   "source": [
    "install2 = (np.random.choice([1, 0], p = [0.004, .996], size = (10000,450)))"
   ]
  },
  {
   "cell_type": "code",
   "execution_count": 111,
   "id": "1d04827d",
   "metadata": {},
   "outputs": [
    {
     "data": {
      "text/plain": [
       "0.1648"
      ]
     },
     "execution_count": 111,
     "metadata": {},
     "output_type": "execute_result"
    }
   ],
   "source": [
    "(install2.sum(axis = 1) == 0).mean()"
   ]
  },
  {
   "cell_type": "markdown",
   "id": "33fc010e",
   "metadata": {},
   "source": [
    "## 7. There's a 70% chance on any given day that there will be at least one food truck at Travis Park. However, you haven't seen a food truck there in 3 days. How unlikely is this?"
   ]
  },
  {
   "cell_type": "code",
   "execution_count": 115,
   "id": "6630fb5f",
   "metadata": {},
   "outputs": [],
   "source": [
    "# .973 unlikely\n",
    "# 0 = no food truck\n",
    "# 1 = food truck\n",
    "truck = (np.random.choice([1, 0], p = [0.7, .3], size = (10000, 3)))"
   ]
  },
  {
   "cell_type": "code",
   "execution_count": 118,
   "id": "b6f7cb4e",
   "metadata": {},
   "outputs": [],
   "source": [
    "prob = (truck.sum(axis = 1) == 0).mean()"
   ]
  },
  {
   "cell_type": "code",
   "execution_count": 120,
   "id": "ed361e46",
   "metadata": {},
   "outputs": [
    {
     "data": {
      "text/plain": [
       "0.9724"
      ]
     },
     "execution_count": 120,
     "metadata": {},
     "output_type": "execute_result"
    }
   ],
   "source": [
    "unlikely = 1 - prob\n",
    "unlikely"
   ]
  },
  {
   "cell_type": "markdown",
   "id": "d0ae219e",
   "metadata": {},
   "source": [
    "## 8. If 23 people are in the same room, what are the odds that two of them share a birthday? What if it's 20 people? 40?"
   ]
  },
  {
   "cell_type": "code",
   "execution_count": 121,
   "id": "9b1e70eb",
   "metadata": {},
   "outputs": [],
   "source": [
    "def generate_random_bday():\n",
    "    birthday = np.random.randint(1, num_possible_bdays)\n",
    "    return birthday\n",
    "\n",
    "def generate_k_birthdays(k):\n",
    "    birthdays = [generate_random_bday() for _ in range(k)]\n",
    "    return birthdays\n",
    "\n",
    "def share(birthdays):\n",
    "    unique_birthdays = set(birthdays)\n",
    "    num_birthdays = len(birthdays)\n",
    "    num_unique_birthdays = len(unique_birthdays)\n",
    "    has_coincidence = (num_birthdays != num_unique_birthdays)\n",
    "    return has_coincidence\n",
    "\n",
    "def estimate_p_share(k):\n",
    "    num_share = 0\n",
    "    for _ in range(num_trials):\n",
    "        birthdays = generate_k_birthdays(k)\n",
    "        has_coincidence = aloc(birthdays)\n",
    "        if has_coincidence:\n",
    "            num_share += 1\n",
    "    p_share = num_share / num_trials\n",
    "    return p_share"
   ]
  },
  {
   "cell_type": "code",
   "execution_count": 122,
   "id": "2b4fed8d",
   "metadata": {},
   "outputs": [
    {
     "data": {
      "text/plain": [
       "0.5078"
      ]
     },
     "execution_count": 122,
     "metadata": {},
     "output_type": "execute_result"
    }
   ],
   "source": [
    "estimate_p_share(23)"
   ]
  },
  {
   "cell_type": "code",
   "execution_count": 88,
   "id": "2bb7c74e",
   "metadata": {},
   "outputs": [
    {
     "data": {
      "text/plain": [
       "0.4123"
      ]
     },
     "execution_count": 88,
     "metadata": {},
     "output_type": "execute_result"
    }
   ],
   "source": [
    "estimate_p_share(20)"
   ]
  },
  {
   "cell_type": "code",
   "execution_count": 89,
   "id": "910c6d97",
   "metadata": {},
   "outputs": [
    {
     "data": {
      "text/plain": [
       "0.8899"
      ]
     },
     "execution_count": 89,
     "metadata": {},
     "output_type": "execute_result"
    }
   ],
   "source": [
    "estimate_p_share(40)"
   ]
  },
  {
   "cell_type": "code",
   "execution_count": 123,
   "id": "960e98a2",
   "metadata": {},
   "outputs": [],
   "source": [
    "bd = np.random.choice(range(1, 366), size = (10000, 23))"
   ]
  },
  {
   "cell_type": "code",
   "execution_count": 126,
   "id": "27747a84",
   "metadata": {},
   "outputs": [
    {
     "data": {
      "text/plain": [
       "0.501"
      ]
     },
     "execution_count": 126,
     "metadata": {},
     "output_type": "execute_result"
    }
   ],
   "source": [
    "(pd.DataFrame(bd).nunique(axis = 1) < 23).mean()"
   ]
  },
  {
   "cell_type": "code",
   "execution_count": null,
   "id": "1da73dec",
   "metadata": {},
   "outputs": [],
   "source": [
    "#np.random.choice(range(1,n_faces+1), n_die).sum(axis=1)"
   ]
  }
 ],
 "metadata": {
  "kernelspec": {
   "display_name": "Python 3 (ipykernel)",
   "language": "python",
   "name": "python3"
  },
  "language_info": {
   "codemirror_mode": {
    "name": "ipython",
    "version": 3
   },
   "file_extension": ".py",
   "mimetype": "text/x-python",
   "name": "python",
   "nbconvert_exporter": "python",
   "pygments_lexer": "ipython3",
   "version": "3.9.12"
  }
 },
 "nbformat": 4,
 "nbformat_minor": 5
}
