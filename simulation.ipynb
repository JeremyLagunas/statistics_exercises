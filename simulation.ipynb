{
 "cells": [
  {
   "cell_type": "markdown",
   "id": "4890a2c8",
   "metadata": {},
   "source": [
    "## 1. How likely is it that you roll doubles when rolling two dice?"
   ]
  },
  {
   "cell_type": "code",
   "execution_count": 71,
   "id": "0721ad14",
   "metadata": {},
   "outputs": [],
   "source": [
    "import numpy as np\n",
    "import pandas as pd"
   ]
  },
  {
   "cell_type": "code",
   "execution_count": 42,
   "id": "63470f22",
   "metadata": {
    "scrolled": true
   },
   "outputs": [
    {
     "data": {
      "text/plain": [
       "array([[2],\n",
       "       [4],\n",
       "       [3],\n",
       "       ...,\n",
       "       [5],\n",
       "       [6],\n",
       "       [3]])"
      ]
     },
     "execution_count": 42,
     "metadata": {},
     "output_type": "execute_result"
    }
   ],
   "source": [
    "n_trials = nrows = 10_000\n",
    "n_dice = ncols = 1\n",
    "\n",
    "rolls1 = np.random.choice([1, 2, 3, 4, 5, 6], n_trials * n_dice).reshape(nrows, ncols)\n",
    "rolls1\n"
   ]
  },
  {
   "cell_type": "code",
   "execution_count": 43,
   "id": "864ef6d4",
   "metadata": {},
   "outputs": [
    {
     "data": {
      "text/plain": [
       "array([[1],\n",
       "       [6],\n",
       "       [6],\n",
       "       ...,\n",
       "       [2],\n",
       "       [5],\n",
       "       [4]])"
      ]
     },
     "execution_count": 43,
     "metadata": {},
     "output_type": "execute_result"
    }
   ],
   "source": [
    "n_trials = nrows = 10_000\n",
    "n_dice = ncols = 1\n",
    "\n",
    "rolls2 = np.random.choice([1, 2, 3, 4, 5, 6], n_trials * n_dice).reshape(nrows, ncols)\n",
    "rolls2"
   ]
  },
  {
   "cell_type": "code",
   "execution_count": 45,
   "id": "abedd870",
   "metadata": {},
   "outputs": [
    {
     "data": {
      "text/plain": [
       "0.1638"
      ]
     },
     "execution_count": 45,
     "metadata": {},
     "output_type": "execute_result"
    }
   ],
   "source": [
    "(rolls1 == rolls2).mean()"
   ]
  },
  {
   "cell_type": "code",
   "execution_count": 46,
   "id": "c9998831",
   "metadata": {},
   "outputs": [
    {
     "data": {
      "text/plain": [
       "array([[2, 5],\n",
       "       [2, 2],\n",
       "       [3, 1],\n",
       "       ...,\n",
       "       [2, 5],\n",
       "       [5, 5],\n",
       "       [3, 4]])"
      ]
     },
     "execution_count": 46,
     "metadata": {},
     "output_type": "execute_result"
    }
   ],
   "source": [
    "n_trials = nrows = 10_000\n",
    "n_dice = ncols = 2\n",
    "\n",
    "rolls3 = np.random.choice([1, 2, 3, 4, 5, 6], n_trials * n_dice).reshape(nrows, ncols)\n",
    "rolls3"
   ]
  },
  {
   "cell_type": "code",
   "execution_count": 51,
   "id": "c53da506",
   "metadata": {},
   "outputs": [
    {
     "data": {
      "text/plain": [
       "0.169"
      ]
     },
     "execution_count": 51,
     "metadata": {},
     "output_type": "execute_result"
    }
   ],
   "source": [
    "(pd.DataFrame(rolls3)[0] == pd.DataFrame(rolls3)[1]).mean()"
   ]
  },
  {
   "cell_type": "markdown",
   "id": "151e0a48",
   "metadata": {},
   "source": [
    "## 2. If you flip 8 coins, what is the probability of getting exactly 3 heads? What is the probability of getting more than 3 heads?"
   ]
  },
  {
   "cell_type": "code",
   "execution_count": 93,
   "id": "2af8a198",
   "metadata": {},
   "outputs": [
    {
     "data": {
      "text/plain": [
       "array([[1, 1, 0, ..., 0, 0, 0],\n",
       "       [1, 1, 1, ..., 0, 1, 0],\n",
       "       [0, 1, 0, ..., 0, 0, 0],\n",
       "       ...,\n",
       "       [0, 0, 0, ..., 1, 1, 1],\n",
       "       [0, 0, 0, ..., 1, 0, 1],\n",
       "       [1, 1, 1, ..., 0, 0, 0]])"
      ]
     },
     "execution_count": 93,
     "metadata": {},
     "output_type": "execute_result"
    }
   ],
   "source": [
    "# heads = 1\n",
    "# tails = 0\n",
    "flips = np.random.choice([0, 1], size = (10000, 8))\n",
    "flips"
   ]
  },
  {
   "cell_type": "code",
   "execution_count": 96,
   "id": "94ea24cb",
   "metadata": {},
   "outputs": [],
   "source": [
    "flips_sums = flips.sum(axis = 1)"
   ]
  },
  {
   "cell_type": "markdown",
   "id": "66e01986",
   "metadata": {},
   "source": [
    "### Probability of exactly 3 heads."
   ]
  },
  {
   "cell_type": "code",
   "execution_count": 99,
   "id": "d576c524",
   "metadata": {},
   "outputs": [
    {
     "data": {
      "text/plain": [
       "0.2181"
      ]
     },
     "execution_count": 99,
     "metadata": {},
     "output_type": "execute_result"
    }
   ],
   "source": [
    "(flips_sums == 3).mean()"
   ]
  },
  {
   "cell_type": "markdown",
   "id": "a29742c4",
   "metadata": {},
   "source": [
    "### Probability of > 3 heads."
   ]
  },
  {
   "cell_type": "code",
   "execution_count": 100,
   "id": "6048f246",
   "metadata": {},
   "outputs": [
    {
     "data": {
      "text/plain": [
       "0.6316"
      ]
     },
     "execution_count": 100,
     "metadata": {},
     "output_type": "execute_result"
    }
   ],
   "source": [
    "(flips_sums > 3).mean()"
   ]
  },
  {
   "cell_type": "markdown",
   "id": "7e4e33c0",
   "metadata": {},
   "source": [
    "## 3. There are approximitely 3 web development cohorts for every 1 data science cohort at Codeup. Assuming that Codeup randomly selects an alumni to put on a billboard, what are the odds that the two billboards I drive past both have data science students on them?"
   ]
  },
  {
   "cell_type": "code",
   "execution_count": 111,
   "id": "a01e5491",
   "metadata": {},
   "outputs": [
    {
     "data": {
      "text/plain": [
       "array([[1],\n",
       "       [0],\n",
       "       [1],\n",
       "       ...,\n",
       "       [1],\n",
       "       [1],\n",
       "       [0]])"
      ]
     },
     "execution_count": 111,
     "metadata": {},
     "output_type": "execute_result"
    }
   ],
   "source": [
    "# 1, 2, 3 = WB\n",
    "# 0 = DS\n",
    "board1 = np.random.choice([0, 1, 1, 1], size = (10000, 1))\n",
    "board1"
   ]
  },
  {
   "cell_type": "code",
   "execution_count": 112,
   "id": "3e182b49",
   "metadata": {},
   "outputs": [
    {
     "data": {
      "text/plain": [
       "array([[1],\n",
       "       [1],\n",
       "       [1],\n",
       "       ...,\n",
       "       [1],\n",
       "       [1],\n",
       "       [1]])"
      ]
     },
     "execution_count": 112,
     "metadata": {},
     "output_type": "execute_result"
    }
   ],
   "source": [
    "board2 = np.random.choice([0, 1, 1, 1], size = (10000, 1))\n",
    "board2"
   ]
  },
  {
   "cell_type": "code",
   "execution_count": 118,
   "id": "7051c607",
   "metadata": {},
   "outputs": [
    {
     "data": {
      "text/plain": [
       "array([[2],\n",
       "       [1],\n",
       "       [2],\n",
       "       ...,\n",
       "       [2],\n",
       "       [2],\n",
       "       [1]])"
      ]
     },
     "execution_count": 118,
     "metadata": {},
     "output_type": "execute_result"
    }
   ],
   "source": [
    "two_boards = board1 + board2\n",
    "two_boards"
   ]
  },
  {
   "cell_type": "code",
   "execution_count": 119,
   "id": "c5e87da9",
   "metadata": {},
   "outputs": [
    {
     "data": {
      "text/plain": [
       "0.0626"
      ]
     },
     "execution_count": 119,
     "metadata": {},
     "output_type": "execute_result"
    }
   ],
   "source": [
    "(two_boards == 0).mean()"
   ]
  },
  {
   "cell_type": "markdown",
   "id": "49b97ede",
   "metadata": {},
   "source": [
    "## 4. Codeup students buy, on average, 3 poptart packages with a standard deviation of 1.5 a day from the snack vending machine. If on monday the machine is restocked with 17 poptart packages, how likely is it that I will be able to buy some poptarts on Friday afternoon? (Remember, if you have mean and standard deviation, use the np.random.normal) You'll need to make a judgement call on how to handle some of your values"
   ]
  },
  {
   "cell_type": "code",
   "execution_count": null,
   "id": "6a24273f",
   "metadata": {},
   "outputs": [],
   "source": []
  }
 ],
 "metadata": {
  "kernelspec": {
   "display_name": "Python 3 (ipykernel)",
   "language": "python",
   "name": "python3"
  },
  "language_info": {
   "codemirror_mode": {
    "name": "ipython",
    "version": 3
   },
   "file_extension": ".py",
   "mimetype": "text/x-python",
   "name": "python",
   "nbconvert_exporter": "python",
   "pygments_lexer": "ipython3",
   "version": "3.9.12"
  }
 },
 "nbformat": 4,
 "nbformat_minor": 5
}
